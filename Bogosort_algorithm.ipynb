{
 "cells": [
  {
   "cell_type": "markdown",
   "id": "d6563fc4",
   "metadata": {},
   "source": [
    "![Alt text](Bogosort.PNG)"
   ]
  },
  {
   "cell_type": "markdown",
   "id": "48381286",
   "metadata": {},
   "source": [
    "<span style=\"background-color:purple\">Bogosort is a highly inefficient sorting algorithm and there is no way to predict how long it will take to sort the list. Bogosort is a great example of what not to do while using sorting algorithms.   </span>\n",
    "\n",
    "Here’s how it works:\n",
    "\n",
    "1)Randomize: randomly shuffling the elements of the list.\n",
    "\n",
    "2)Check: if the list is sorted. If yes, ends. If not, it randomly shuffling the elements of the list\n",
    "\n",
    "3)Repeat.\n"
   ]
  },
  {
   "cell_type": "code",
   "execution_count": 6,
   "id": "a7d4a38b",
   "metadata": {},
   "outputs": [
    {
     "name": "stdout",
     "output_type": "stream",
     "text": [
      "Generated 8 random numbers: [4092, 2226, 7897, 4806, 3678, 3194, 3539, 8162]\n",
      "\n",
      "--- Starting Bogosort ---\n",
      "Attempting to sort 8 elements.\n",
      "\n",
      "--- Bogosort Complete ---\n",
      "Sorted list: [2226, 3194, 3539, 3678, 4092, 4806, 7897, 8162]\n",
      "Total attempts: 330 shuffles\n",
      "Time taken: 0.0008 seconds\n",
      "\n",
      "Sorted numbers successfully saved to 'sorted_numbers_bogosort.txt'\n"
     ]
    }
   ],
   "source": [
    "import numpy as np\n",
    "import pandas as pd\n",
    "import random\n",
    "import time\n",
    "\n",
    "def is_sorted(arr):\n",
    "    for i in range(len(arr) - 1):\n",
    "        if arr[i] > arr[i+1]:\n",
    "            return False\n",
    "    return True\n",
    "\n",
    "def bogosort(arr):\n",
    "    attempts = 0\n",
    "    while not is_sorted(arr):\n",
    "        random.shuffle(arr)\n",
    "        attempts += 1\n",
    "    return arr, attempts\n",
    "\n",
    "min_value = 1\n",
    "max_value = 10000\n",
    "num_elements = 8\n",
    "\n",
    "random_numbers = np.random.randint(min_value, max_value + 1, num_elements)\n",
    "print(f\"Generated {len(random_numbers)} random numbers: {random_numbers.tolist()}\")\n",
    "\n",
    "# Convert numpy array to a list for shuffling\n",
    "numbers_list = random_numbers.tolist()\n",
    "\n",
    "print(\"\\n--- Starting Bogosort ---\")\n",
    "print(f\"Attempting to sort {len(numbers_list)} elements.\")\n",
    "\n",
    "start_time = time.time()\n",
    "sorted_list, total_attempts = bogosort(numbers_list)\n",
    "end_time = time.time()\n",
    "\n",
    "print(\"\\n--- Bogosort Complete ---\")\n",
    "print(f\"Sorted list: {sorted_list}\")\n",
    "print(f\"Total attempts: {total_attempts} shuffles\")\n",
    "print(f\"Time taken: {end_time - start_time:.4f} seconds\")\n",
    "\n",
    "numbers_series = pd.Series(sorted_list) \n",
    "numbers_series.to_csv('sorted_numbers_bogosort.txt', index=False, header=False)\n",
    "print(\"\\nSorted numbers successfully saved to 'sorted_numbers_bogosort.txt'\")"
   ]
  }
 ],
 "metadata": {
  "kernelspec": {
   "display_name": "base",
   "language": "python",
   "name": "python3"
  },
  "language_info": {
   "codemirror_mode": {
    "name": "ipython",
    "version": 3
   },
   "file_extension": ".py",
   "mimetype": "text/x-python",
   "name": "python",
   "nbconvert_exporter": "python",
   "pygments_lexer": "ipython3",
   "version": "3.13.5"
  }
 },
 "nbformat": 4,
 "nbformat_minor": 5
}
