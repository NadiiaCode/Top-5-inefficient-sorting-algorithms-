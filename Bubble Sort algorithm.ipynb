{
 "cells": [
  {
   "cell_type": "markdown",
   "id": "5cbeb64c",
   "metadata": {},
   "source": [
    "<span style=\"background-color:purple\">Bubble Sort works by repeatedly stepping through the list, comparing adjacent elements and swapping them if they are in the wrong order. With each pass, the largest unsorted element \"bubbles up\" to its correct position at the end of the unsorted section. This process continues until no swaps are made in an entire pass, indicating that the list is fully sorted, though it's generally considered very inefficient for large datasets.</span>"
   ]
  },
  {
   "cell_type": "code",
   "execution_count": null,
   "id": "dd2a38b2",
   "metadata": {},
   "outputs": [
    {
     "name": "stdout",
     "output_type": "stream",
     "text": [
      "\n",
      "--- Starting Bubble Sort ---\n",
      "Attempting to sort 50000 elements.\n",
      "\n",
      "--- Bubble Sort Complete ---\n",
      "Total comparisons: 1249951564\n",
      "Total swaps: 624044785\n",
      "Time taken: 114.9204 seconds\n",
      "\n",
      "Sorted numbers successfully saved to 'sorted_numbers_bubble_sort.txt'\n"
     ]
    }
   ],
   "source": [
    "import numpy as np\n",
    "import pandas as pd\n",
    "import time\n",
    "\n",
    "def bubble_sort(arr):\n",
    "    n = len(arr)\n",
    "    comparisons = 0\n",
    "    swaps = 0\n",
    "    \n",
    "    for i in range(n):\n",
    "        swapped_in_pass = False\n",
    "        for j in range(0, n - i - 1):\n",
    "            comparisons += 1 \n",
    "            if arr[j] > arr[j+1]:\n",
    "                arr[j], arr[j+1] = arr[j+1], arr[j]\n",
    "                swaps += 1 \n",
    "                swapped_in_pass = True\n",
    "        if not swapped_in_pass:\n",
    "            break\n",
    "    return arr, comparisons, swaps\n",
    "\n",
    "min_value = 1\n",
    "max_value = 1000000\n",
    "num_elements = 50000 \n",
    "\n",
    "random_numbers = np.random.randint(min_value, max_value + 1, num_elements)\n",
    "numbers_list = random_numbers.tolist()\n",
    "\n",
    "print(\"\\n--- Starting Bubble Sort ---\")\n",
    "print(f\"Attempting to sort {len(numbers_list)} elements.\")\n",
    "\n",
    "start_time = time.time()\n",
    "sorted_list, total_comparisons, total_swaps = bubble_sort(numbers_list)\n",
    "end_time = time.time()\n",
    "\n",
    "print(\"\\n--- Bubble Sort Complete ---\")\n",
    "print(f\"Total comparisons: {total_comparisons}\")\n",
    "print(f\"Total swaps: {total_swaps}\")\n",
    "print(f\"Time taken: {end_time - start_time:.4f} seconds\")\n",
    "\n",
    "numbers_series = pd.Series(sorted_list) \n",
    "numbers_series.to_csv('sorted_numbers_bubble_sort.txt', index=False, header=False)\n",
    "print(\"\\nSorted numbers successfully saved to 'sorted_numbers_bubble_sort.txt'\")"
   ]
  }
 ],
 "metadata": {
  "kernelspec": {
   "display_name": "Python 3",
   "language": "python",
   "name": "python3"
  },
  "language_info": {
   "codemirror_mode": {
    "name": "ipython",
    "version": 3
   },
   "file_extension": ".py",
   "mimetype": "text/x-python",
   "name": "python",
   "nbconvert_exporter": "python",
   "pygments_lexer": "ipython3",
   "version": "3.13.0"
  }
 },
 "nbformat": 4,
 "nbformat_minor": 5
}
