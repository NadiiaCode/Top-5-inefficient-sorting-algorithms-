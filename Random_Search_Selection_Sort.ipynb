{
 "cells": [
  {
   "cell_type": "markdown",
   "id": "1d6838cd",
   "metadata": {},
   "source": [
    "<span style=\"background-color:purple\">This method attempts to sort an array by repeatedly finding the smallest remaining element and placing it into its correct sorted position. However, instead of systematically searching for this minimum, it relies on picking random elements from the unsorted part. This probabilistic and inefficient search means it takes a very long time, or many random attempts, to actually find the correct minimum for each step.</span>"
   ]
  },
  {
   "cell_type": "code",
   "execution_count": 1,
   "id": "2599731d",
   "metadata": {},
   "outputs": [
    {
     "name": "stdout",
     "output_type": "stream",
     "text": [
      "Generated 200 random numbers: [144, 748, 6277, 144, 2553, 9807, 8996, 8681, 1935, 395, 349, 4446, 5348, 1986, 6715, 3709, 3136, 4358, 7018, 8000, 2902, 5212, 1835, 2226, 3765, 8630, 1851, 997, 23, 2900, 703, 9686, 9255, 1074, 6803, 8193, 9066, 4594, 1956, 6214, 7368, 8628, 7475, 2320, 498, 6450, 5065, 6650, 3022, 7233, 6121, 6126, 789, 6136, 1868, 8078, 6086, 9582, 8151, 7353, 865, 722, 6438, 4656, 7896, 852, 2451, 483, 9982, 4942, 2866, 3339, 7714, 3099, 7102, 6319, 1390, 660, 1169, 8823, 714, 3202, 9850, 8007, 3338, 3793, 7481, 4451, 9924, 5791, 5148, 4766, 9349, 7432, 3204, 5760, 8468, 2961, 4145, 2853, 2352, 4776, 4813, 4534, 3447, 2188, 3046, 8797, 8380, 2966, 9199, 9406, 5164, 7264, 3279, 6836, 6513, 8050, 7520, 6854, 1878, 2864, 5097, 8545, 4289, 6010, 3088, 7741, 1827, 5875, 1674, 5227, 706, 31, 1205, 1619, 9821, 5702, 6135, 9941, 1387, 9387, 9388, 6066, 3250, 4853, 6567, 3167, 8583, 1989, 3317, 6322, 6255, 1377, 6815, 9589, 7529, 4399, 2271, 6262, 8075, 3805, 4011, 2546, 1532, 4188, 6658, 4322, 398, 3706, 9063, 1528, 7200, 574, 9620, 5728, 9885, 8073, 2419, 1446, 7470, 5862, 6783, 4614, 9595, 4181, 3683, 9591, 8615, 2910, 4833, 7386, 3651, 3881, 2715, 4166, 9425, 5904, 7158, 6429]\n",
      "\n",
      "--- Starting Random Search Selection Sort ---\n",
      "Attempting to sort 200 elements.\n",
      "\n",
      "--- Random Search Selection Sort Complete ---\n",
      "Sorted list: [23, 31, 144, 144, 349, 395, 398, 483, 498, 574, 660, 703, 706, 714, 722, 748, 789, 852, 865, 997, 1074, 1169, 1205, 1377, 1387, 1390, 1446, 1528, 1532, 1619, 1674, 1827, 1835, 1851, 1868, 1878, 1935, 1956, 1986, 1989, 2188, 2226, 2271, 2320, 2352, 2419, 2451, 2546, 2553, 2715, 2853, 2864, 2866, 2900, 2902, 2910, 2961, 2966, 3022, 3046, 3088, 3099, 3136, 3167, 3202, 3204, 3250, 3279, 3317, 3338, 3339, 3447, 3651, 3683, 3706, 3709, 3765, 3793, 3805, 3881, 4011, 4145, 4166, 4181, 4188, 4289, 4322, 4358, 4399, 4446, 4451, 4534, 4594, 4614, 4656, 4766, 4776, 4813, 4833, 4853, 4942, 5065, 5097, 5148, 5164, 5212, 5227, 5348, 5702, 5728, 5760, 5791, 5862, 5875, 5904, 6010, 6066, 6086, 6121, 6126, 6135, 6136, 6214, 6255, 6262, 6277, 6319, 6322, 6429, 6438, 6450, 6513, 6567, 6650, 6658, 6715, 6783, 6803, 6815, 6836, 6854, 7018, 7102, 7158, 7200, 7233, 7264, 7353, 7368, 7386, 7432, 7470, 7475, 7481, 7520, 7529, 7714, 7741, 7896, 8000, 8007, 8050, 8073, 8075, 8078, 8151, 8193, 8380, 8468, 8545, 8583, 8615, 8628, 8630, 8681, 8797, 8823, 8996, 9063, 9066, 9199, 9255, 9349, 9387, 9388, 9406, 9425, 9582, 9589, 9591, 9595, 9620, 9686, 9807, 9821, 9850, 9885, 9924, 9941, 9982]\n",
      "Total comparisons: 13588869\n",
      "Total random element picks: 2686700\n",
      "Time taken: 2.1092 seconds\n",
      "\n",
      "Sorted numbers successfully saved to 'sorted_numbers_random_selection_sort.txt'\n"
     ]
    }
   ],
   "source": [
    "import numpy as np\n",
    "import pandas as pd\n",
    "import random\n",
    "import time\n",
    "\n",
    "def random_search_selection_sort(arr):\n",
    "    n = len(arr)\n",
    "    comparisons = 0 \n",
    "    random_picks = 0 \n",
    "\n",
    "    for i in range(n):\n",
    "        min_val_found_for_this_pass = float('inf')\n",
    "        min_idx_found_for_this_pass = -1\n",
    "        num_random_attempts = (n - i) * (n - i) \n",
    "\n",
    "        for _ in range(num_random_attempts):\n",
    "            random_picks += 1\n",
    "            random_idx = random.randint(i, n - 1)\n",
    "            current_candidate = arr[random_idx]\n",
    "            is_candidate_truly_min = True\n",
    "            for j in range(i, n):\n",
    "                comparisons += 1\n",
    "                if arr[j] < current_candidate:\n",
    "                    is_candidate_truly_min = False\n",
    "                    break \n",
    "            if is_candidate_truly_min and current_candidate < min_val_found_for_this_pass:\n",
    "                min_val_found_for_this_pass = current_candidate\n",
    "                min_idx_found_for_this_pass = random_idx\n",
    "\n",
    "        if min_idx_found_for_this_pass == -1 and i < n: \n",
    "             min_idx_found_for_this_pass = i\n",
    "             min_val_found_for_this_pass = arr[i]\n",
    "        elif min_idx_found_for_this_pass == -1 and n > 0:\n",
    "             temp_min_val = arr[i]\n",
    "             temp_min_idx = i\n",
    "             for k in range(i + 1, n):\n",
    "                 comparisons += 1\n",
    "                 if arr[k] < temp_min_val:\n",
    "                     temp_min_val = arr[k]\n",
    "                     temp_min_idx = k\n",
    "             min_val_found_for_this_pass = temp_min_val\n",
    "             min_idx_found_for_this_pass = temp_min_idx\n",
    "        if min_idx_found_for_this_pass != i:\n",
    "            arr[i], arr[min_idx_found_for_this_pass] = arr[min_idx_found_for_this_pass], arr[i]\n",
    "    return arr, comparisons, random_picks\n",
    "\n",
    "min_value = 1\n",
    "max_value = 10000\n",
    "num_elements = 200 \n",
    "\n",
    "random_numbers = np.random.randint(min_value, max_value + 1, num_elements)\n",
    "print(f\"Generated {len(random_numbers)} random numbers: {random_numbers.tolist()}\")\n",
    "numbers_list = random_numbers.tolist()\n",
    "\n",
    "print(\"\\n--- Starting Random Search Selection Sort ---\")\n",
    "print(f\"Attempting to sort {len(numbers_list)} elements.\")\n",
    "\n",
    "start_time = time.time()\n",
    "sorted_list, total_comparisons, total_random_picks = random_search_selection_sort(numbers_list)\n",
    "end_time = time.time()\n",
    "\n",
    "print(\"\\n--- Random Search Selection Sort Complete ---\")\n",
    "print(f\"Sorted list: {sorted_list}\")\n",
    "print(f\"Total comparisons: {total_comparisons}\")\n",
    "print(f\"Total random element picks: {total_random_picks}\")\n",
    "print(f\"Time taken: {end_time - start_time:.4f} seconds\")\n",
    "\n",
    "numbers_series = pd.Series(sorted_list)\n",
    "numbers_series.to_csv('sorted_numbers_random_selection_sort.txt', index=False, header=False)\n",
    "print(\"\\nSorted numbers successfully saved to 'sorted_numbers_random_selection_sort.txt'\")"
   ]
  }
 ],
 "metadata": {
  "kernelspec": {
   "display_name": "base",
   "language": "python",
   "name": "python3"
  },
  "language_info": {
   "codemirror_mode": {
    "name": "ipython",
    "version": 3
   },
   "file_extension": ".py",
   "mimetype": "text/x-python",
   "name": "python",
   "nbconvert_exporter": "python",
   "pygments_lexer": "ipython3",
   "version": "3.13.5"
  }
 },
 "nbformat": 4,
 "nbformat_minor": 5
}
