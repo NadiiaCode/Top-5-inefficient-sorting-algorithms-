{
 "cells": [
  {
   "cell_type": "markdown",
   "id": "7f71f9af",
   "metadata": {},
   "source": [
    "<span style=\"background-color:purple\">Recursive Slowest Sort (RCS Sort), also known as Slowsort, is a deliberately inefficient algorithm which sorts an array by recursively sorting its left half, then its right half. To make it extremely inefficient, it then recursively sorts almost the entire array twice more, creating massive redundant work. Finally, a single \"bubble sort\" pass is performed on the current section to ensure some progress, leading to an exponential and impractical sorting time.</span>"
   ]
  },
  {
   "cell_type": "code",
   "execution_count": 5,
   "id": "6c386b4b",
   "metadata": {},
   "outputs": [
    {
     "name": "stdout",
     "output_type": "stream",
     "text": [
      "Generated 25 random numbers: [6461, 7187, 8881, 6686, 2437, 2997, 39, 941, 8445, 200, 6381, 6515, 8460, 8089, 2153, 3676, 2956, 2598, 9617, 1929, 4210, 9829, 9393, 692, 4838]\n",
      "\n",
      "--- Starting Recursive Slowest Sort (RCS Sort) ---\n",
      "Attempting to sort 25 elements.\n",
      "\n",
      "--- Recursive Slowest Sort (RCS Sort) Complete ---\n",
      "Sorted list: [39, 200, 692, 941, 1929, 2153, 2437, 2598, 2956, 2997, 3676, 4210, 4838, 6381, 6461, 6515, 6686, 7187, 8089, 8445, 8460, 8881, 9393, 9617, 9829]\n",
      "Time taken: 21.1541 seconds\n",
      "\n",
      "Sorted numbers successfully saved to 'sorted_numbers_rcs_sort.txt'\n"
     ]
    }
   ],
   "source": [
    "import numpy as np\n",
    "import pandas as pd\n",
    "import time\n",
    "import sys\n",
    "\n",
    "sys.setrecursionlimit(20000)\n",
    "\n",
    "def bubble_pass(arr, i, j):\n",
    "    swapped = False\n",
    "    for k in range(i, j):\n",
    "        if arr[k] > arr[k+1]:\n",
    "            arr[k], arr[k+1] = arr[k+1], arr[k]\n",
    "            swapped = True\n",
    "    return swapped\n",
    "\n",
    "def recursive_slowest_sort(arr, i, j):\n",
    "    if i >= j:\n",
    "        return\n",
    "\n",
    "    mid = (i + j) // 2\n",
    "    recursive_slowest_sort(arr, i, mid)\n",
    "    recursive_slowest_sort(arr, mid + 1, j)\n",
    "\n",
    "    if j - 1 >= i: \n",
    "        recursive_slowest_sort(arr, i, j - 1) \n",
    "    if i + 1 <= j: \n",
    "        recursive_slowest_sort(arr, i + 1, j) \n",
    "    bubble_pass(arr, i, j)\n",
    "\n",
    "min_value = 1\n",
    "max_value = 10000\n",
    "num_elements = 25 \n",
    "\n",
    "random_numbers = np.random.randint(min_value, max_value + 1, num_elements)\n",
    "print(f\"Generated {len(random_numbers)} random numbers: {random_numbers.tolist()}\")\n",
    "\n",
    "numbers_list = random_numbers.tolist()\n",
    "\n",
    "print(\"\\n--- Starting Recursive Slowest Sort (RCS Sort) ---\")\n",
    "print(f\"Attempting to sort {len(numbers_list)} elements.\")\n",
    "\n",
    "start_time = time.time()\n",
    "recursive_slowest_sort(numbers_list, 0, len(numbers_list) - 1)\n",
    "end_time = time.time()\n",
    "\n",
    "print(\"\\n--- Recursive Slowest Sort (RCS Sort) Complete ---\")\n",
    "print(f\"Sorted list: {numbers_list}\")\n",
    "print(f\"Time taken: {end_time - start_time:.4f} seconds\")\n",
    "\n",
    "numbers_series = pd.Series(numbers_list)\n",
    "numbers_series.to_csv('sorted_numbers_rcs_sort.txt', index=False, header=False)\n",
    "print(\"\\nSorted numbers successfully saved to 'sorted_numbers_rcs_sort.txt'\")"
   ]
  }
 ],
 "metadata": {
  "kernelspec": {
   "display_name": "base",
   "language": "python",
   "name": "python3"
  },
  "language_info": {
   "codemirror_mode": {
    "name": "ipython",
    "version": 3
   },
   "file_extension": ".py",
   "mimetype": "text/x-python",
   "name": "python",
   "nbconvert_exporter": "python",
   "pygments_lexer": "ipython3",
   "version": "3.13.5"
  }
 },
 "nbformat": 4,
 "nbformat_minor": 5
}
