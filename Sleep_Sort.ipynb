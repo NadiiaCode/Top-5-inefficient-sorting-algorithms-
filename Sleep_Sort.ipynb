{
 "cells": [
  {
   "cell_type": "markdown",
   "id": "fbd0f13e",
   "metadata": {},
   "source": [
    "<span style=\"background-color:purple\">Sleep Sort is a unique \"sorting\" method where each number in an unsorted list is assigned a concurrent \"sleep\" duration equal to its value. All numbers begin sleeping simultaneously, and they are then collected into a sorted list as they \"wake up\" in ascending order of their initial values. This approach prioritizes temporal ordering over traditional comparisons, making it conceptually interesting but highly impractical due to its reliance on real-time delays and resource consumption.</span>"
   ]
  },
  {
   "cell_type": "code",
   "execution_count": 1,
   "id": "3f979172",
   "metadata": {},
   "outputs": [
    {
     "name": "stdout",
     "output_type": "stream",
     "text": [
      "Generated 200 random numbers: [3028, 9379, 3670, 3570, 1648, 1593, 4689, 1218, 8841, 616, 5105, 1485, 5839, 6937, 2994, 3242, 9369, 7110, 3492, 5371, 7729, 5685, 5434, 9507, 6402, 4272, 7575, 9273, 6749, 7745, 664, 5685, 3211, 6957, 9137, 8377, 2473, 2959, 7082, 7258, 6047, 3800, 70, 1103, 4017, 9769, 277, 1595, 6598, 5850, 6490, 7034, 935, 4716, 8750, 7330, 9616, 4344, 7584, 3323, 2556, 3350, 4351, 183, 2674, 9716, 3436, 6558, 8000, 6172, 5193, 1862, 311, 3113, 4992, 9995, 47, 5910, 7566, 2012, 9111, 5601, 2501, 4796, 4983, 6821, 9555, 9345, 2373, 6695, 4382, 706, 7677, 2947, 1398, 5722, 5819, 546, 3482, 6364, 7874, 3134, 258, 3135, 6012, 8715, 793, 7115, 1475, 8168, 3858, 2120, 9021, 2782, 1372, 5796, 4338, 235, 9234, 3014, 1213, 2134, 7152, 5039, 3441, 4907, 4204, 153, 8397, 3617, 7114, 4277, 8058, 3248, 9995, 900, 8280, 10000, 9519, 6288, 9632, 4094, 1435, 5958, 6725, 427, 7261, 6273, 6979, 7884, 2288, 8977, 9330, 8045, 9784, 64, 7209, 9326, 5550, 1769, 6359, 9470, 8713, 4127, 2580, 4326, 2220, 3841, 6105, 9293, 7471, 2739, 6655, 9837, 1003, 8510, 1782, 3562, 3596, 2510, 3291, 6914, 859, 2934, 65, 6301, 5803, 4188, 9491, 1572, 2108, 7904, 2951, 6607, 2662, 5965, 4903, 1112, 3102, 1718]\n",
      "\n",
      "--- Starting Sleep Sort ---\n",
      "Attempting to sort 200 elements.\n",
      "\n",
      "--- Sleep Sort Complete ---\n",
      "Sorted list: [47, 70, 64, 65, 153, 183, 235, 258, 277, 311, 427, 546, 616, 664, 706, 793, 859, 900, 935, 1003, 1103, 1112, 1218, 1213, 1372, 1398, 1435, 1485, 1475, 1572, 1593, 1595, 1648, 1718, 1769, 1782, 1862, 2012, 2108, 2120, 2134, 2220, 2288, 2373, 2473, 2501, 2510, 2556, 2580, 2674, 2662, 2739, 2782, 2934, 2947, 2959, 2951, 2994, 3014, 3028, 3113, 3102, 3134, 3135, 3211, 3242, 3248, 3291, 3323, 3350, 3436, 3441, 3492, 3482, 3570, 3562, 3596, 3617, 3670, 3800, 3841, 3858, 4017, 4094, 4127, 4188, 4204, 4272, 4277, 4326, 4338, 4344, 4351, 4382, 4689, 4716, 4796, 4907, 4903, 4983, 4992, 5039, 5105, 5193, 5371, 5434, 5550, 5601, 5685, 5685, 5722, 5796, 5803, 5819, 5839, 5850, 5910, 5958, 5965, 6012, 6047, 6105, 6172, 6273, 6288, 6301, 6364, 6359, 6402, 6490, 6558, 6598, 6607, 6655, 6695, 6725, 6749, 6821, 6914, 6937, 6957, 6979, 7034, 7082, 7110, 7115, 7114, 7152, 7209, 7258, 7261, 7330, 7471, 7566, 7575, 7584, 7677, 7729, 7745, 7874, 7884, 7904, 8000, 8045, 8058, 8168, 8280, 8377, 8397, 8510, 8715, 8713, 8750, 8841, 8977, 9021, 9111, 9137, 9234, 9273, 9293, 9326, 9330, 9345, 9369, 9379, 9470, 9507, 9491, 9519, 9555, 9616, 9632, 9716, 9769, 9784, 9837, 9995, 9995, 10000]\n",
      "Time taken: 10.0165 seconds\n",
      "\n",
      "Sorted numbers successfully saved to 'sorted_numbers_sleepsort.txt'\n"
     ]
    }
   ],
   "source": [
    "import numpy as np\n",
    "import pandas as pd\n",
    "import time\n",
    "import threading\n",
    "\n",
    "sorted_numbers_sleep = []\n",
    "list_lock = threading.Lock()\n",
    "\n",
    "def process_number_for_sleep_sort(number, sleep_factor):\n",
    "    sleep_duration = number * sleep_factor\n",
    "    time.sleep(sleep_duration)\n",
    "    with list_lock: \n",
    "        sorted_numbers_sleep.append(number)\n",
    "\n",
    "def sleep_sort(arr, sleep_factor):\n",
    "    global sorted_numbers_sleep\n",
    "    sorted_numbers_sleep = [] \n",
    "    threads = []\n",
    "\n",
    "    for number in arr:\n",
    "        if number < 0:\n",
    "            print(f\"Warning: Sleep Sort does not handle negative numbers effectively. Skipping {number}\")\n",
    "            continue\n",
    "        thread = threading.Thread(target=process_number_for_sleep_sort, args=(number, sleep_factor))\n",
    "        threads.append(thread)\n",
    "        thread.start() \n",
    "\n",
    "    for thread in threads:\n",
    "        thread.join()\n",
    "\n",
    "    return sorted_numbers_sleep\n",
    "\n",
    "min_value = 1\n",
    "max_value = 10000\n",
    "num_elements = 200 \n",
    "\n",
    "random_numbers = np.random.randint(min_value, max_value + 1, num_elements)\n",
    "print(f\"Generated {len(random_numbers)} random numbers: {random_numbers.tolist()}\")\n",
    "\n",
    "numbers_list = random_numbers.tolist()\n",
    "\n",
    "print(\"\\n--- Starting Sleep Sort ---\")\n",
    "print(f\"Attempting to sort {len(numbers_list)} elements.\")\n",
    "\n",
    "sleep_factor_to_use = 0.001 \n",
    "\n",
    "start_time = time.time()\n",
    "sorted_list = sleep_sort(numbers_list, sleep_factor=sleep_factor_to_use)\n",
    "end_time = time.time()\n",
    "\n",
    "print(\"\\n--- Sleep Sort Complete ---\")\n",
    "print(f\"Sorted list: {sorted_list}\")\n",
    "print(f\"Time taken: {end_time - start_time:.4f} seconds\")\n",
    "\n",
    "numbers_series = pd.Series(sorted_list) \n",
    "numbers_series.to_csv('sorted_numbers_sleepsort.txt', index=False, header=False)\n",
    "print(\"\\nSorted numbers successfully saved to 'sorted_numbers_sleepsort.txt'\")"
   ]
  }
 ],
 "metadata": {
  "kernelspec": {
   "display_name": "base",
   "language": "python",
   "name": "python3"
  },
  "language_info": {
   "codemirror_mode": {
    "name": "ipython",
    "version": 3
   },
   "file_extension": ".py",
   "mimetype": "text/x-python",
   "name": "python",
   "nbconvert_exporter": "python",
   "pygments_lexer": "ipython3",
   "version": "3.13.5"
  }
 },
 "nbformat": 4,
 "nbformat_minor": 5
}
